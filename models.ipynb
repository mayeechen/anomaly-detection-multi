{
 "cells": [
  {
   "cell_type": "code",
   "execution_count": 1,
   "metadata": {},
   "outputs": [],
   "source": [
    "%load_ext autoreload\n",
    "%autoreload 2\n",
    "import sys\n",
    "import os\n",
    "root_path = '../'\n",
    "sys.path.append(os.path.join(root_path, 'code'))\n",
    "import pandas as pd\n",
    "import sklearn\n",
    "import numpy as np\n",
    "\n",
    "from sklearn.linear_model import SGDClassifier\n",
    "from sklearn.preprocessing import StandardScaler\n",
    "from sklearn.pipeline import make_pipeline\n",
    "\n",
    "import snorkel\n",
    "\n"
   ]
  },
  {
   "cell_type": "code",
   "execution_count": 2,
   "metadata": {},
   "outputs": [],
   "source": [
    "# Load data\n",
    "df=pd.read_csv('anomaly.csv', sep=',',header=None)\n",
    "df2=pd.read_csv('noisesimulation1.csv', sep=',',header=None)\n"
   ]
  },
  {
   "cell_type": "code",
   "execution_count": 3,
   "metadata": {},
   "outputs": [],
   "source": [
    "# Each row is a collision event summarized by 5 features.  The first feature is “m” and the other four features are “x”.   I would suggest using 3.3 < m. <3.7 as the signal region and everything else as the sideband.  So if you want mixed samples, you can call all noise/anomaly in the signal region as class 1 and then everything else as class 0.  \n",
    "# set up the datasets according to the above\n",
    "X1 = df.to_numpy()\n",
    "X2 = df2.to_numpy()\n",
    "\n",
    "# join the datasets; first part is the anomaly part\n",
    "X = np.concatenate((X1, X2))\n",
    "n1 = X1.shape[0]\n",
    "n2 = X2.shape[0]\n",
    "n = X.shape[0]\n",
    "\n",
    "# get the noisy labels using the signal and sideband regions\n",
    "Y = np.zeros(n)\n",
    "for i in range(n):\n",
    "    Y[i] = 1 if (X[i, 0] > 3.3 and X[i,0] < 3.7) else 0\n",
    "\n",
    "# construct the true labels\n",
    "Y_true = np.zeros(n)\n",
    "Y_true[:X1.shape[0]] = 1.0 # anomaly \n",
    "\n",
    "# set up constants\n",
    "# for LLP, we need to get these---potentially from tuning\n",
    "L_rho = 1/(1-0.2-0.3)\n",
    "delta = 0.01"
   ]
  },
  {
   "cell_type": "code",
   "execution_count": 6,
   "metadata": {},
   "outputs": [
    {
     "name": "stdout",
     "output_type": "stream",
     "text": [
      "200.0 11473.684210526317\n"
     ]
    }
   ],
   "source": [
    "n_pts = 20\n",
    "#n_ratios = list(np.logspace(0.5, 2.5, num=n_pts)/10**4)\n",
    "n_ratios = np.linspace(0.0005, 0.06,num=n_pts)\n",
    "print(n_ratios[0]*400000, n_ratios[9]*400000)\n"
   ]
  },
  {
   "cell_type": "code",
   "execution_count": 7,
   "metadata": {},
   "outputs": [
    {
     "name": "stdout",
     "output_type": "stream",
     "text": [
      "Cwola accuracy = [0.62531401 0.63541914 0.63837646 0.6432655  0.64733162 0.64486278\n",
      " 0.64417298 0.6345954  0.64559797 0.63568683 0.63137713 0.63790138\n",
      " 0.63403537 0.63700244 0.6368726  0.64104105 0.63574121 0.63150045\n",
      " 0.63799469 0.63594631] std = [0.13208178 0.09193377 0.06987829 0.05368842 0.05177343 0.05112745\n",
      " 0.0378145  0.03258496 0.04461988 0.03317996 0.02581353 0.02885243\n",
      " 0.02356224 0.03607951 0.03040003 0.02280808 0.02593541 0.02375851\n",
      " 0.02097621 0.02453574]\n"
     ]
    }
   ],
   "source": [
    "# run a cwola-like model and evaluate\n",
    "# let's also construct smaller versions\n",
    "num_runs = 50\n",
    "cwola_scores = np.zeros((n_pts, num_runs))\n",
    "\n",
    "for a in range(len(n_ratios)):\n",
    "    for b in range(num_runs):\n",
    "        n1a = int(n_ratios[a]*n1)\n",
    "        n2a = int(n_ratios[a]*n2)\n",
    "        X = np.concatenate((X1[np.random.permutation(n1)][:n1a], X2[np.random.permutation(n2)][:n2a]))\n",
    "        Y = np.zeros(n1a+n2a)\n",
    "        for i in range(n1a+n2a):\n",
    "            Y[i] = 1 if (X[i, 0] > 3.3 and X[i,0] < 3.7) else 0\n",
    "        Y_true=np.zeros(n1a+n2a)\n",
    "        Y_true[:n1a] = 1.0 # anomaly\n",
    "        clf = make_pipeline(StandardScaler(), SGDClassifier(max_iter=1000, tol=1e-3))\n",
    "        clf.fit(X, Y)\n",
    "        cwola_scores[a, b] = sklearn.metrics.accuracy_score(Y_true, clf.predict(X))\n",
    "cwola_accs = cwola_scores.sum(axis=1) / num_runs\n",
    "cwola_stds= cwola_scores.std(axis=1)\n",
    "print(f\"Cwola accuracy = {cwola_accs} std = {cwola_stds}\")\n"
   ]
  },
  {
   "cell_type": "code",
   "execution_count": 9,
   "metadata": {},
   "outputs": [
    {
     "data": {
      "text/plain": [
       "'\\nnp.random.seed(123)\\n# create multiple datasets that become our LFs b\\nm = X.shape[1]\\n\\nfor k in range(n_pts):\\n    tol = -0.06 + 0.01*k\\n    print(f\"tol = {tol}\")\\n    L = np.zeros((n, m))\\n\\n    for j in range(m):\\n        for i in range(n):\\n            L[i, j] = 1 if (X[i, 0] > (3.3 - j*tol) and X[i,0] < (3.7 + j*tol)) else 0\\n    print()\\n\\n    label_model = LabelModel(cardinality=2)\\n    label_model.fit(L_train=L, n_epochs=500, log_freq=100, seed=123)\\n    probs_train = label_model.predict_proba(L)\\n    #probs_one = probs_train[:,1]\\n    preds_train = probs_to_preds(probs=probs_train)\\n\\n    clf_end_model = make_pipeline(StandardScaler(), SGDClassifier(max_iter=1000, tol=1e-3))\\n    clf_end_model.fit(X, preds_train)\\n    snorkel_accuracy = sklearn.metrics.accuracy_score(Y_true, clf_end_model.predict(X))\\n    print(f\"Snorkel accuracy = {snorkel_accuracy}\")\\n    for j in range(5):\\n        print(np.sum(L[:,j] == 1)/L.shape[0])\\n    print()\\n'"
      ]
     },
     "execution_count": 9,
     "metadata": {},
     "output_type": "execute_result"
    }
   ],
   "source": [
    "# snorkel-like approach where we vary the thresholds to build LFs\n",
    "# note: non-independent LFs here, so the analysis doesn't go through\n",
    "\n",
    "# to keep from getting overwhelmed with reporting spew\n",
    "import logging, sys, time\n",
    "from tqdm import tqdm\n",
    "from snorkel.labeling.model import LabelModel\n",
    "from snorkel.utils import probs_to_preds\n",
    "from functools import partialmethod\n",
    "\n",
    "logging.disable(sys.maxsize)\n",
    "tqdm.__init__ = partialmethod(tqdm.__init__, disable=True)\n",
    "\n",
    "# for reproducibility:\n",
    "'''\n",
    "np.random.seed(123)\n",
    "# create multiple datasets that become our LFs b\n",
    "m = X.shape[1]\n",
    "\n",
    "for k in range(n_pts):\n",
    "    tol = -0.06 + 0.01*k\n",
    "    print(f\"tol = {tol}\")\n",
    "    L = np.zeros((n, m))\n",
    "\n",
    "    for j in range(m):\n",
    "        for i in range(n):\n",
    "            L[i, j] = 1 if (X[i, 0] > (3.3 - j*tol) and X[i,0] < (3.7 + j*tol)) else 0\n",
    "    print()\n",
    "\n",
    "    label_model = LabelModel(cardinality=2)\n",
    "    label_model.fit(L_train=L, n_epochs=500, log_freq=100, seed=123)\n",
    "    probs_train = label_model.predict_proba(L)\n",
    "    #probs_one = probs_train[:,1]\n",
    "    preds_train = probs_to_preds(probs=probs_train)\n",
    "\n",
    "    clf_end_model = make_pipeline(StandardScaler(), SGDClassifier(max_iter=1000, tol=1e-3))\n",
    "    clf_end_model.fit(X, preds_train)\n",
    "    snorkel_accuracy = sklearn.metrics.accuracy_score(Y_true, clf_end_model.predict(X))\n",
    "    print(f\"Snorkel accuracy = {snorkel_accuracy}\")\n",
    "    for j in range(5):\n",
    "        print(np.sum(L[:,j] == 1)/L.shape[0])\n",
    "    print()\n",
    "'''"
   ]
  },
  {
   "cell_type": "code",
   "execution_count": 10,
   "metadata": {},
   "outputs": [
    {
     "name": "stdout",
     "output_type": "stream",
     "text": [
      "finished with num labels 207 in 15.853958368301392\n",
      "finished with num labels 1515 in 15.987717866897583\n",
      "finished with num labels 2821 in 26.364206075668335\n",
      "finished with num labels 4128 in 26.127989530563354\n",
      "finished with num labels 5434 in 25.64449119567871\n",
      "finished with num labels 6741 in 25.56728744506836\n",
      "finished with num labels 8047 in 29.420825481414795\n",
      "finished with num labels 9355 in 27.40245795249939\n",
      "finished with num labels 10661 in 29.506767749786377\n",
      "finished with num labels 11968 in 30.33250665664673\n",
      "finished with num labels 13274 in 28.824297189712524\n",
      "finished with num labels 14581 in 28.36620831489563\n",
      "finished with num labels 15887 in 29.107901573181152\n",
      "finished with num labels 17194 in 29.46170735359192\n",
      "finished with num labels 18501 in 26.902440309524536\n",
      "finished with num labels 19807 in 21.06597399711609\n",
      "finished with num labels 21114 in 22.801905870437622\n",
      "finished with num labels 22420 in 22.89540457725525\n",
      "finished with num labels 23727 in 22.68857979774475\n",
      "finished with num labels 25034 in 22.802193880081177\n",
      "Snorkel accuracy = [0.72830918 0.76921452 0.78860688 0.79540698 0.79330144 0.79535677\n",
      " 0.80612402 0.80302084 0.80253447 0.8007871  0.80382854 0.80233592\n",
      " 0.80387738 0.80703618 0.80234906 0.80518605 0.80270721 0.80219179\n",
      " 0.80388587 0.80258848] std = [0.08719002 0.0529366  0.04454673 0.02953743 0.02917061 0.0267841\n",
      " 0.02412012 0.0287687  0.02381111 0.0208368  0.02047946 0.02183975\n",
      " 0.02034434 0.02043881 0.02061748 0.02035317 0.01829436 0.02052747\n",
      " 0.01660469 0.02574213]\n"
     ]
    }
   ],
   "source": [
    "# snorkel approach\n",
    "import logging, sys, time\n",
    "from tqdm import tqdm\n",
    "from functools import partialmethod\n",
    "\n",
    "logging.disable(sys.maxsize)\n",
    "tqdm.__init__ = partialmethod(tqdm.__init__, disable=True)\n",
    "\n",
    "n, m = X.shape\n",
    "\n",
    "# I made these thresholds\n",
    "thresholds = np.array([[3.3, 3.7], [0.09, 0.12], [0.33, 0.40], [0.3, 0.5], [0.1, 0.3]])\n",
    "\n",
    "snorkel_scores = np.zeros((n_pts, num_runs))\n",
    "label_model = LabelModel(cardinality=2)\n",
    "\n",
    "for a in range(len(n_ratios)):\n",
    "    st = time.time()\n",
    "    for b in range(num_runs):\n",
    "        n1a = int(n_ratios[a]*n1)\n",
    "        n2a = int(n_ratios[a]*n2)\n",
    "\n",
    "        # make each feature a separate LF in here\n",
    "        L = np.zeros((n1a+n2a, m))\n",
    "        nperm1 = np.random.permutation(n1)\n",
    "\n",
    "        X = np.concatenate((X1[nperm1][:n1a], X2[np.random.permutation(n2)][:n2a]))\n",
    "        Y = np.zeros(n1a+n2a)\n",
    "        for i in range(n1a+n2a):\n",
    "            Y[i] = 1 if (X[i, 0] > 3.3 and X[i,0] < 3.7) else 0\n",
    "        Y_true=np.zeros(n1a+n2a)\n",
    "        Y_true[:n1a] = 1.0 # anomaly\n",
    "        for i in range(n1a+n2a):\n",
    "            L[i, 0] = 1 if (X[i, 0] > thresholds[0,0] and X[i, 0] < thresholds[0,1]) else 0\n",
    "            L[i, 1] = 1 if (X[i, 1] > thresholds[1,0] and X[i, 1] < thresholds[1,1]) else 0\n",
    "            L[i, 2] = 1 if (X[i, 2] > thresholds[2,0] and X[i, 2] < thresholds[2,1]) else 0\n",
    "            L[i, 3] = 1 if (X[i, 3] > thresholds[3,0] and X[i, 3] < thresholds[3,1]) else 0\n",
    "            L[i, 4] = 1 if (X[i, 4] > thresholds[4,0] and X[i, 4] < thresholds[4,1]) else 0\n",
    "\n",
    "        label_model.fit(L_train=L, n_epochs=500, log_freq=100, seed=np.random.randint(1e6))\n",
    "        probs_train = label_model.predict_proba(L)\n",
    "        preds_train = probs_to_preds(probs=probs_train)\n",
    "\n",
    "        clf_end_model = make_pipeline(StandardScaler(), SGDClassifier(max_iter=1000, tol=1e-3))\n",
    "        clf_end_model.fit(X, preds_train)\n",
    "        snorkel_scores[a, b] = sklearn.metrics.accuracy_score(Y_true, clf_end_model.predict(X))\n",
    "    print(f\"finished with num labels {n1a+n2a} in {time.time()-st}\")\n",
    "snorkel_accs = snorkel_scores.sum(axis=1) / num_runs\n",
    "snorkel_stds = snorkel_scores.std(axis=1)\n",
    "print(f\"Snorkel accuracy = {snorkel_accs} std = {snorkel_stds}\")\n"
   ]
  },
  {
   "cell_type": "code",
   "execution_count": 24,
   "metadata": {
    "scrolled": true
   },
   "outputs": [
    {
     "data": {
      "image/png": "[encoded data removed]",
      "text/plain": [
       "<Figure size 432x288 with 1 Axes>"
      ]
     },
     "metadata": {
      "needs_background": "light"
     },
     "output_type": "display_data"
    }
   ],
   "source": [
    "import matplotlib.pyplot as plt\n",
    "fig = plt.gcf()\n",
    "#fig.set_size_inches(18.5, 10.5)\n",
    "\n",
    "n_labels = np.zeros(n_pts)\n",
    "\n",
    "for a in range(len(n_ratios)):\n",
    "    n1a = int(n_ratios[a]*n1)\n",
    "    n2a = int(n_ratios[a]*n2)\n",
    "    n_labels[a] = n1a+n2a\n",
    "#fig.set_size_inches(18.5, 10.5, forward=True)\n",
    "\n",
    "plt.plot(n_labels, snorkel_accs, label='multi-CWoLa', marker=\"o\")\n",
    "plt.fill_between(n_labels, snorkel_accs-snorkel_stds, snorkel_accs+snorkel_stds, alpha=0.3)\n",
    "plt.plot(n_labels, cwola_accs, label='CWoLa', marker=\"x\")\n",
    "plt.fill_between(n_labels, cwola_accs-cwola_stds, cwola_accs+cwola_stds, alpha=0.3)\n",
    "\n",
    "plt.ylabel('Accuracy')\n",
    "plt.xlabel('Datapoints')\n",
    "plt.legend()\n",
    "plt.grid()\n",
    "ax = fig.axes[0]\n",
    "ax.set_rasterized(True)\n",
    "\n",
    "fig.savefig('bla.pdf', dpi=300)\n",
    "\n",
    "#plt.show()\n"
   ]
  }
 ],
 "metadata": {
  "kernelspec": {
   "display_name": "Python 3.8.6 ('env': venv)",
   "language": "python",
   "name": "python3"
  },
  "language_info": {
   "codemirror_mode": {
    "name": "ipython",
    "version": 3
   },
   "file_extension": ".py",
   "mimetype": "text/x-python",
   "name": "python",
   "nbconvert_exporter": "python",
   "pygments_lexer": "ipython3",
   "version": "3.8.6"
  },
  "vscode": {
   "interpreter": {
    "hash": "3587fd87613d1d746f98751a99c937df37c2e6999a81ded2a217f0d955345cad"
   }
  }
 },
 "nbformat": 4,
 "nbformat_minor": 4
}
