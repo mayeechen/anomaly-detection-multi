{
 "cells": [
  {
   "cell_type": "code",
   "execution_count": 2,
   "id": "cefc0e9e",
   "metadata": {},
   "outputs": [],
   "source": [
    "#Multisalad!"
   ]
  },
  {
   "cell_type": "code",
   "execution_count": 3,
   "id": "9145c660",
   "metadata": {},
   "outputs": [],
   "source": [
    "import numpy as np\n",
    "import matplotlib.pyplot as plt\n",
    "from sklearn.model_selection import train_test_split\n",
    "import pickle"
   ]
  },
  {
   "cell_type": "code",
   "execution_count": 4,
   "id": "b622ae20",
   "metadata": {},
   "outputs": [
    {
     "name": "stderr",
     "output_type": "stream",
     "text": [
      "2022-09-30 02:16:51.812219: W tensorflow/stream_executor/platform/default/dso_loader.cc:64] Could not load dynamic library 'libcudart.so.11.0'; dlerror: libcudart.so.11.0: cannot open shared object file: No such file or directory\n",
      "2022-09-30 02:16:51.812299: I tensorflow/stream_executor/cuda/cudart_stub.cc:29] Ignore above cudart dlerror if you do not have a GPU set up on your machine.\n"
     ]
    }
   ],
   "source": [
    "import tensorflow as tf\n",
    "import tensorflow.keras\n",
    "import tensorflow.keras.backend as K\n",
    "from tensorflow.keras.layers import Dense, Input, Lambda, Concatenate\n",
    "from tensorflow.keras.models import Model, Sequential\n",
    "from tensorflow.keras.utils import to_categorical\n",
    "from tensorflow.python.platform import tf_logging as logging\n",
    "from tensorflow.keras.callbacks import Callback, EarlyStopping"
   ]
  },
  {
   "cell_type": "code",
   "execution_count": 5,
   "id": "5f93e1e6",
   "metadata": {},
   "outputs": [],
   "source": [
    "import os\n",
    "os.environ[\"CUDA_DEVICE_ORDER\"] = \"PCI_BUS_ID\"\n",
    "os.environ[\"CUDA_VISIBLE_DEVICES\"] = \"1\""
   ]
  },
  {
   "cell_type": "code",
   "execution_count": 469,
   "id": "8b6bbe3c",
   "metadata": {},
   "outputs": [],
   "source": [
    "N = 2000\n",
    "s = 8\n",
    "\n",
    "np.random.seed(s)\n",
    "data = np.concatenate([np.random.normal(-1,0.2,N),np.random.normal(1,0.2,N)])\n",
    "anomaly = np.concatenate([np.random.normal(-2,0.2,int(N*0.05)), np.random.normal(2,0.2,int(N*0.05))])\n",
    "sim1 = np.concatenate([np.random.normal(0,1,N),np.random.normal(1,0.2,N)])\n",
    "sim2 = np.concatenate([np.random.normal(-1,0.2,N),np.random.normal(0,1,N)])"
   ]
  },
  {
   "cell_type": "code",
   "execution_count": 470,
   "id": "3161c074",
   "metadata": {},
   "outputs": [
    {
     "data": {
      "image/png": "[encoded data removed]",
      "text/plain": [
       "<Figure size 432x288 with 1 Axes>"
      ]
     },
     "metadata": {
      "needs_background": "light"
     },
     "output_type": "display_data"
    }
   ],
   "source": [
    "n,b,_=plt.hist(data,bins=30,histtype=\"step\",color=\"black\", range=(-4, 4), label=\"Data (no anomaly)\")\n",
    "_,_,_=plt.hist(anomaly,bins=b,histtype=\"step\",color=\"black\",ls=\":\",label=\"Anomaly\")\n",
    "_,_,_=plt.hist(sim1,bins=b,alpha=0.5,label=\"Simulation 1\")\n",
    "_,_,_=plt.hist(sim2,bins=b,alpha=0.5,label = \"Simulation 2\")\n",
    "plt.legend(frameon=True)\n",
    "plt.ylim([0,max(n)*1.8])\n",
    "plt.xlabel(\"x\")\n",
    "plt.ylabel(\"counts\")\n",
    "\n",
    "plt.savefig(\"./figs/salad_data_distr.pdf\")"
   ]
  },
  {
   "cell_type": "code",
   "execution_count": 471,
   "id": "56c48cd1",
   "metadata": {},
   "outputs": [],
   "source": [
    "def split_data(x):\n",
    "    n = x.shape[0]\n",
    "    indices = np.random.permutation(n)\n",
    "\n",
    "    indices_1 = indices[: int(n/2)]\n",
    "    indices_2 = indices[int(n/2):]\n",
    "\n",
    "\n",
    "    return x[indices_1], x[indices_2]"
   ]
  },
  {
   "cell_type": "code",
   "execution_count": 472,
   "id": "4dd2de66",
   "metadata": {},
   "outputs": [],
   "source": [
    "# shuffle and split each dataset\n",
    "# np.random.seed(42)\n",
    "\n",
    "X_data_sb, X_data_sr = split_data(data)\n",
    "X_sim1_sb, X_sim1_sr = split_data(sim1)\n",
    "X_sim2_sb, X_sim2_sr = split_data(sim2)\n",
    "anomaly_sb, anomaly_sr = split_data(anomaly)\n",
    "\n",
    "\n",
    "n_data_sb, n_data_sr = X_data_sb.shape[0], X_data_sr.shape[0]\n",
    "n_sim1_sb, n_sim1_sr = X_sim1_sb.shape[0], X_sim1_sr.shape[0]\n",
    "n_sim2_sb, n_sim2_sr = X_sim2_sb.shape[0], X_sim2_sr.shape[0]\n",
    "n_anomaly_sb, n_anomaly_sr = anomaly_sb.shape[0], anomaly_sr.shape[0]"
   ]
  },
  {
   "cell_type": "code",
   "execution_count": 473,
   "id": "34ee5acd",
   "metadata": {},
   "outputs": [],
   "source": [
    "#First, the models to reweight the simulation to the data\n",
    "\n",
    "#sim 1 -> data\n",
    "model_rw_sim1 = Sequential()\n",
    "model_rw_sim1.add(Dense(32, input_dim=1, activation='relu'))\n",
    "model_rw_sim1.add(Dense(32, activation='relu'))\n",
    "model_rw_sim1.add(Dense(32, activation='relu'))\n",
    "model_rw_sim1.add(Dense(1, activation='sigmoid'))\n",
    "model_rw_sim1.compile(loss='binary_crossentropy', optimizer='adam', metrics=['accuracy'])\n",
    "\n",
    "#sim 2 -> data\n",
    "model_rw_sim2 = Sequential()\n",
    "model_rw_sim2.add(Dense(32, input_dim=1, activation='relu'))\n",
    "model_rw_sim2.add(Dense(32, activation='relu'))\n",
    "model_rw_sim2.add(Dense(32, activation='relu'))\n",
    "model_rw_sim2.add(Dense(1, activation='sigmoid'))\n",
    "model_rw_sim2.compile(loss='binary_crossentropy', optimizer='adam', metrics=['accuracy'])\n",
    "\n",
    "#sim 1 + sim 2 -> data\n",
    "model_rw_sim12 = Sequential()\n",
    "model_rw_sim12.add(Dense(32, input_dim=1, activation='relu'))\n",
    "model_rw_sim12.add(Dense(32, activation='relu'))\n",
    "model_rw_sim12.add(Dense(32, activation='relu'))\n",
    "model_rw_sim12.add(Dense(1, activation='sigmoid'))\n",
    "model_rw_sim12.compile(loss='binary_crossentropy', optimizer='adam', metrics=['accuracy'])\n",
    "\n",
    "#now, train classifiers to distinguish data (with anomaly) to simulation. \n",
    "#I'm assuming the interpolation to the signal region is exactly correct.\n",
    "\n",
    "#sim 1 versus data\n",
    "model_ad_sim1 = Sequential()\n",
    "model_ad_sim1.add(Dense(32, input_dim=1, activation='relu'))\n",
    "model_ad_sim1.add(Dense(32, activation='relu'))\n",
    "model_ad_sim1.add(Dense(32, activation='relu'))\n",
    "model_ad_sim1.add(Dense(1, activation='sigmoid'))\n",
    "model_ad_sim1.compile(loss='binary_crossentropy', optimizer='adam', metrics=['accuracy'])\n",
    "\n",
    "#sim 1 (after reweigthing) versus data\n",
    "model_ad_sim1_rw = Sequential()\n",
    "model_ad_sim1_rw.add(Dense(32, input_dim=1, activation='relu'))\n",
    "model_ad_sim1_rw.add(Dense(32, activation='relu'))\n",
    "model_ad_sim1_rw.add(Dense(32, activation='relu'))\n",
    "model_ad_sim1_rw.add(Dense(1, activation='sigmoid'))\n",
    "model_ad_sim1_rw.compile(loss='binary_crossentropy', optimizer='adam', metrics=['accuracy'])\n",
    "\n",
    "#sim 2 versus data\n",
    "model_ad_sim2 = Sequential()\n",
    "model_ad_sim2.add(Dense(32, input_dim=1, activation='relu'))\n",
    "model_ad_sim2.add(Dense(32, activation='relu'))\n",
    "model_ad_sim2.add(Dense(32, activation='relu'))\n",
    "model_ad_sim2.add(Dense(1, activation='sigmoid'))\n",
    "model_ad_sim2.compile(loss='binary_crossentropy', optimizer='adam', metrics=['accuracy'])\n",
    "\n",
    "#sim 2 (after reweigthing) versus data\n",
    "model_ad_sim2_rw = Sequential()\n",
    "model_ad_sim2_rw.add(Dense(32, input_dim=1, activation='relu'))\n",
    "model_ad_sim2_rw.add(Dense(32, activation='relu'))\n",
    "model_ad_sim2_rw.add(Dense(32, activation='relu'))\n",
    "model_ad_sim2_rw.add(Dense(1, activation='sigmoid'))\n",
    "model_ad_sim2_rw.compile(loss='binary_crossentropy', optimizer='adam', metrics=['accuracy'])\n",
    "\n",
    "#sim 1+2 versus data\n",
    "model_ad_sim12 = Sequential()\n",
    "model_ad_sim12.add(Dense(32, input_dim=1, activation='relu'))\n",
    "model_ad_sim12.add(Dense(32, activation='relu'))\n",
    "model_ad_sim12.add(Dense(32, activation='relu'))\n",
    "model_ad_sim12.add(Dense(1, activation='sigmoid'))\n",
    "model_ad_sim12.compile(loss='binary_crossentropy', optimizer='adam', metrics=['accuracy'])\n",
    "\n",
    "#sim 1+2 (after reweigthing) versus data\n",
    "model_ad_sim12_rw = Sequential()\n",
    "model_ad_sim12_rw.add(Dense(32, input_dim=1, activation='relu'))\n",
    "model_ad_sim12_rw.add(Dense(32, activation='relu'))\n",
    "model_ad_sim12_rw.add(Dense(32, activation='relu'))\n",
    "model_ad_sim12_rw.add(Dense(1, activation='sigmoid'))\n",
    "model_ad_sim12_rw.compile(loss='binary_crossentropy', optimizer='adam', metrics=['accuracy'])\n",
    "\n",
    "model_ad_sim_multi_rw = Sequential()\n",
    "model_ad_sim_multi_rw.add(Dense(32, input_dim=1, activation='relu'))\n",
    "model_ad_sim_multi_rw.add(Dense(32, activation='relu'))\n",
    "model_ad_sim_multi_rw.add(Dense(32, activation='relu'))\n",
    "model_ad_sim_multi_rw.add(Dense(1, activation='sigmoid'))\n",
    "model_ad_sim_multi_rw.compile(loss='binary_crossentropy', optimizer='adam', metrics=['accuracy'])"
   ]
  },
  {
   "cell_type": "code",
   "execution_count": 474,
   "id": "b2367dd8",
   "metadata": {},
   "outputs": [],
   "source": [
    "# Construct data for first step\n",
    "\n",
    "#sim 1 -> data\n",
    "x_vals_rw_sim1 = np.concatenate([X_data_sb, X_sim1_sb])\n",
    "y_vals_rw_sim1 = np.concatenate([np.ones(len(X_data_sb)),np.zeros(len(X_sim1_sb))])\n",
    "X_train_rw_sim1, X_val_rw_sim1, Y_train_rw_sim1, Y_val_rw_sim1 = train_test_split(x_vals_rw_sim1, y_vals_rw_sim1, random_state=42)\n",
    "\n",
    "#sim 2 -> data\n",
    "x_vals_rw_sim2 = np.concatenate([X_data_sb, X_sim2_sb])\n",
    "y_vals_rw_sim2 = np.concatenate([np.ones(len(X_data_sb)),np.zeros(len(X_sim2_sb))])\n",
    "X_train_rw_sim2, X_val_rw_sim2, Y_train_rw_sim2, Y_val_rw_sim2 = train_test_split(x_vals_rw_sim2, y_vals_rw_sim2, random_state=42)\n",
    "\n",
    "#sim 1+2 -> data\n",
    "x_vals_rw_sim12 = np.concatenate([X_data_sb, X_sim1_sb, X_sim2_sb])\n",
    "y_vals_rw_sim12 = np.concatenate([np.ones(len(X_data_sb)),np.zeros(len(X_sim1_sb)),np.zeros(len(X_sim2_sb))])\n",
    "X_train_rw_sim12, X_val_rw_sim12, Y_train_rw_sim12, Y_val_rw_sim12 = train_test_split(x_vals_rw_sim12, y_vals_rw_sim12, random_state=42)"
   ]
  },
  {
   "cell_type": "code",
   "execution_count": 475,
   "id": "e5f472ae",
   "metadata": {},
   "outputs": [
    {
     "name": "stdout",
     "output_type": "stream",
     "text": [
      "Done with 1\n",
      "Done with 2\n",
      "Done with 1+2\n"
     ]
    }
   ],
   "source": [
    "myhistory_rw_sim1 = model_rw_sim1.fit(X_train_rw_sim1, Y_train_rw_sim1, epochs=50 ,batch_size=200,verbose=0)\n",
    "print(\"Done with 1\")\n",
    "myhistory_rw_sim2 = model_rw_sim2.fit(X_train_rw_sim2, Y_train_rw_sim2, epochs=50 ,batch_size=200,verbose=0)\n",
    "print(\"Done with 2\")\n",
    "myhistory_rw_sim12 = model_rw_sim12.fit(X_train_rw_sim12, Y_train_rw_sim12, epochs=50 ,batch_size=200,verbose=0)\n",
    "print(\"Done with 1+2\")"
   ]
  },
  {
   "cell_type": "code",
   "execution_count": 476,
   "id": "d0467450",
   "metadata": {},
   "outputs": [
    {
     "name": "stdout",
     "output_type": "stream",
     "text": [
      "1/1 [==============================] - 0s 81ms/step\n",
      "1/1 [==============================] - 0s 62ms/step\n",
      "2/2 [==============================] - 0s 2ms/step\n"
     ]
    }
   ],
   "source": [
    "preds_val_rw_sim1 = model_rw_sim1.predict(X_val_rw_sim1,batch_size=1000)\n",
    "preds_val_rw_sim2 = model_rw_sim2.predict(X_val_rw_sim2,batch_size=1000)\n",
    "preds_val_rw_sim12 = model_rw_sim12.predict(X_val_rw_sim12,batch_size=1000)"
   ]
  },
  {
   "cell_type": "code",
   "execution_count": 477,
   "id": "88cdf6e7",
   "metadata": {},
   "outputs": [
    {
     "data": {
      "text/plain": [
       "Text(0, 0.5, 'counts')"
      ]
     },
     "execution_count": 477,
     "metadata": {},
     "output_type": "execute_result"
    },
    {
     "data": {
      "image/png": "[encoded data removed]",
      "text/plain": [
       "<Figure size 432x288 with 1 Axes>"
      ]
     },
     "metadata": {
      "needs_background": "light"
     },
     "output_type": "display_data"
    },
    {
     "data": {
      "image/png": "[encoded data removed]",
      "text/plain": [
       "<Figure size 432x288 with 1 Axes>"
      ]
     },
     "metadata": {
      "needs_background": "light"
     },
     "output_type": "display_data"
    },
    {
     "data": {
      "image/png": "[encoded data removed]",
      "text/plain": [
       "<Figure size 432x288 with 1 Axes>"
      ]
     },
     "metadata": {
      "needs_background": "light"
     },
     "output_type": "display_data"
    }
   ],
   "source": [
    "plt.figure()\n",
    "n,b,_=plt.hist(X_val_rw_sim1[Y_val_rw_sim1==1],bins=30,histtype=\"step\",color=\"black\",label=\"Data (no anomaly)\")\n",
    "_,_,_=plt.hist(X_val_rw_sim1[Y_val_rw_sim1==0],bins=b,alpha=0.5,label=\"Simulation 1\")\n",
    "_,_,_=plt.hist(X_val_rw_sim1[Y_val_rw_sim1==0],weights =preds_val_rw_sim1[Y_val_rw_sim1==0]/(1.-preds_val_rw_sim1[Y_val_rw_sim1==0]), bins=b,alpha=0.5,label=\"Simulation 1 + SALAD\")\n",
    "plt.legend(frameon=True)\n",
    "plt.ylim([0,max(n)*1.8])\n",
    "plt.xlabel(\"x\")\n",
    "plt.ylabel(\"counts\")\n",
    "# plt.savefig(\"./figs/salad_1.pdf\")\n",
    "\n",
    "plt.figure()\n",
    "n,b,_=plt.hist(X_val_rw_sim2[Y_val_rw_sim2==1],bins=30,histtype=\"step\",color=\"black\",label=\"Data (no anomaly)\")\n",
    "_,_,_=plt.hist(X_val_rw_sim2[Y_val_rw_sim2==0],bins=b,alpha=0.5,label=\"Simulation 2\")\n",
    "_,_,_=plt.hist(X_val_rw_sim2[Y_val_rw_sim2==0],weights =preds_val_rw_sim2[Y_val_rw_sim2==0]/(1.-preds_val_rw_sim2[Y_val_rw_sim2==0]), bins=b,alpha=0.5,label=\"Simulation 2 + SALAD\")\n",
    "plt.legend(frameon=True)\n",
    "plt.ylim([0,max(n)*1.8])\n",
    "plt.xlabel(\"x\")\n",
    "plt.ylabel(\"counts\")\n",
    "# plt.savefig(\"./figs/salad_2.pdf\")\n",
    "\n",
    "plt.figure()\n",
    "n,b,_=plt.hist(X_val_rw_sim12[Y_val_rw_sim12==1],bins=30,histtype=\"step\",color=\"black\",label=\"Data (no anomaly)\")\n",
    "_,_,_=plt.hist(X_val_rw_sim12[Y_val_rw_sim12==0],bins=b,alpha=0.5,label=\"Simulation [1, 2]\")\n",
    "_,_,_=plt.hist(X_val_rw_sim12[Y_val_rw_sim12==0],weights =preds_val_rw_sim12[Y_val_rw_sim12==0]/(1.-preds_val_rw_sim12[Y_val_rw_sim12==0]), bins=b,alpha=0.5,label=\"Simulation [1, 2] + SALAD\")\n",
    "plt.legend(frameon=True)\n",
    "plt.ylim([0,max(n)*1.8])\n",
    "plt.xlabel(\"x\")\n",
    "plt.ylabel(\"counts\")\n",
    "# plt.savefig(\"./figs/salad_12.pdf\")"
   ]
  },
  {
   "cell_type": "code",
   "execution_count": 478,
   "id": "38183964",
   "metadata": {},
   "outputs": [
    {
     "name": "stdout",
     "output_type": "stream",
     "text": [
      "2/2 [==============================] - 0s 4ms/step\n",
      "2/2 [==============================] - 0s 4ms/step\n",
      "4/4 [==============================] - 0s 3ms/step\n",
      "2/2 [==============================] - 0s 3ms/step\n",
      "2/2 [==============================] - 0s 4ms/step\n"
     ]
    }
   ],
   "source": [
    "#Now, for the classification models.\n",
    "\n",
    "#sim 1 versus data\n",
    "x_vals_ad_sim1 = np.concatenate([X_data_sr, anomaly_sr, X_sim1_sr])\n",
    "y_vals_ad_sim1 = np.concatenate([np.ones(len(X_data_sr)),np.ones(len(anomaly_sr)),np.zeros(len(X_sim1_sr))])\n",
    "preds = model_rw_sim1.predict(X_sim1_sr,batch_size=1000).flatten()\n",
    "w_vals_ad_sim1 = np.concatenate([np.ones(len(X_data_sr)),np.ones(len(anomaly_sr)),preds/(1.-preds)])\n",
    "X_train_ad_sim1, X_val_ad_sim1, Y_train_ad_sim1, Y_val_ad_sim1, W_train_ad_sim1, W_val_ad_sim1 = train_test_split(x_vals_ad_sim1, y_vals_ad_sim1, w_vals_ad_sim1, random_state=42)\n",
    "\n",
    "#sim 2 versus data\n",
    "x_vals_ad_sim2 = np.concatenate([X_data_sr,anomaly_sr,X_sim2_sr])\n",
    "y_vals_ad_sim2 = np.concatenate([np.ones(len(X_data_sr)),np.ones(len(anomaly_sr)),np.zeros(len(X_sim2_sr))])\n",
    "preds = model_rw_sim2.predict(X_sim2_sr,batch_size=1000).flatten()\n",
    "w_vals_ad_sim2 = np.concatenate([np.ones(len(X_data_sr)),np.ones(len(anomaly_sr)),preds/(1.-preds)])\n",
    "X_train_ad_sim2, X_val_ad_sim2, Y_train_ad_sim2, Y_val_ad_sim2, W_train_ad_sim2, W_val_ad_sim2 = train_test_split(x_vals_ad_sim2, y_vals_ad_sim2, w_vals_ad_sim2, random_state=42)\n",
    "\n",
    "#sim 1+2 versus data\n",
    "x_vals_ad_sim12 = np.concatenate([X_data_sr,anomaly_sr,X_sim1_sr,X_sim2_sr])\n",
    "y_vals_ad_sim12 = np.concatenate([np.ones(len(X_data_sr)),np.ones(len(anomaly_sr)),np.zeros(len(X_sim1_sr)),np.zeros(len(X_sim2_sr))])\n",
    "\n",
    "preds12 = model_rw_sim12.predict(np.concatenate([X_sim1_sr, X_sim2_sr]),batch_size=1000).flatten()\n",
    "w_vals_ad_sim12 = np.concatenate([np.ones(len(X_data_sr)),np.ones(len(anomaly_sr)),preds12/(1.-preds12)])\n",
    "\n",
    "preds1 = model_rw_sim1.predict(X_sim1_sr, batch_size=1000).flatten()\n",
    "preds2 = model_rw_sim2.predict(X_sim2_sr, batch_size=1000).flatten()\n",
    "preds_multi = np.concatenate([preds1, preds2])\n",
    "w_vals_ad_sim_multi = np.concatenate([np.ones(len(X_data_sr)),np.ones(len(anomaly_sr)),preds_multi/(1.-preds_multi)])\n",
    "\n",
    "X_train_ad_sim12, X_val_ad_sim12, Y_train_ad_sim12, Y_val_ad_sim12, W_train_ad_sim12, W_val_ad_sim12, W_train_ad_sim_multi, W_val_ad_sim_multi = train_test_split(x_vals_ad_sim12, y_vals_ad_sim12, w_vals_ad_sim12, w_vals_ad_sim_multi, random_state=42)"
   ]
  },
  {
   "cell_type": "code",
   "execution_count": 479,
   "id": "3633e455",
   "metadata": {},
   "outputs": [
    {
     "data": {
      "text/plain": [
       "Text(0, 0.5, 'counts')"
      ]
     },
     "execution_count": 479,
     "metadata": {},
     "output_type": "execute_result"
    },
    {
     "data": {
      "image/png": "[encoded data removed]",
      "text/plain": [
       "<Figure size 432x288 with 1 Axes>"
      ]
     },
     "metadata": {
      "needs_background": "light"
     },
     "output_type": "display_data"
    }
   ],
   "source": [
    "# weight_multi can blow things up due to high variance \n",
    "plt.figure()\n",
    "\n",
    "n,b,_=plt.hist(X_train_ad_sim12[Y_train_ad_sim12==1], histtype=\"step\", color=\"black\", bins=30,label=\"Data (with anomaly)\")\n",
    "\n",
    "_,_,_=plt.hist(X_train_ad_sim12[Y_train_ad_sim12==0], weights=W_train_ad_sim_multi[(W_train_ad_sim_multi != 1) & (W_train_ad_sim_multi != 0)], color=\"tab:orange\", alpha=0.5,bins=b,label=\"Reweighted Sim [1, 2] (SALAD-switch)\")\n",
    "# plt.ylim([0,max(n)*1.8])\n",
    "#plt.hist(np.concatenate([X_sim1_sr, X_sim2_sr]), weights=w, color=\"green\",alpha=0.5,bins=b,label=\"simulation\")\n",
    "#plt.hist(preds_anomalyboth,density=True,histtype=\"step\",color=\"black\",bins=b,label=\"Signal\")\n",
    "plt.legend()\n",
    "plt.xlabel(\"x (SR)\")\n",
    "plt.ylabel(\"counts\")\n",
    "# plt.savefig(\"./figs/salad_12_reweighting.pdf\")\n"
   ]
  },
  {
   "cell_type": "code",
   "execution_count": 480,
   "id": "3633e455",
   "metadata": {},
   "outputs": [
    {
     "data": {
      "text/plain": [
       "Text(0, 0.5, 'counts')"
      ]
     },
     "execution_count": 480,
     "metadata": {},
     "output_type": "execute_result"
    },
    {
     "data": {
      "image/png": "[encoded data removed]",
      "text/plain": [
       "<Figure size 432x288 with 1 Axes>"
      ]
     },
     "metadata": {
      "needs_background": "light"
     },
     "output_type": "display_data"
    }
   ],
   "source": [
    "# weight_multi can blow things up due to high variance \n",
    "plt.figure()\n",
    "n,b,_=plt.hist(X_train_ad_sim12[Y_train_ad_sim12==1],histtype=\"step\", color=\"black\", bins=30,label=\"Data (with anomaly)\")\n",
    "#n1,_,_=plt.hist(X_train_both[Y_train_both==0],color=\"orange\",alpha=0.5,bins=b,label=\"sim\")\n",
    "_,_,_=plt.hist(X_train_ad_sim12[Y_train_ad_sim12==0], weights=W_train_ad_sim12[(W_train_ad_sim12 != 1) & (W_train_ad_sim12 != 0)], color=\"tab:orange\", alpha=0.5,bins=b,label=\"Reweighted Sim [1, 2] (Multi-SALAD)\")\n",
    "plt.ylim([0,max(n)*1.8])\n",
    "\n",
    "#plt.hist(np.concatenate([X_sim1_sr, X_sim2_sr]), weights=w, color=\"green\",alpha=0.5,bins=b,label=\"simulation\")\n",
    "#plt.hist(preds_anomalyboth,density=True,histtype=\"step\",color=\"black\",bins=b,label=\"Signal\")\n",
    "plt.legend()\n",
    "plt.legend()\n",
    "plt.xlabel(\"x (SR)\")\n",
    "plt.ylabel(\"counts\")\n",
    "# plt.savefig(\"./figs/salad_multi_reweighting.pdf\")\n"
   ]
  },
  {
   "cell_type": "code",
   "execution_count": 481,
   "id": "3633e455",
   "metadata": {},
   "outputs": [
    {
     "data": {
      "text/plain": [
       "Text(0, 0.5, 'counts')"
      ]
     },
     "execution_count": 481,
     "metadata": {},
     "output_type": "execute_result"
    },
    {
     "data": {
      "image/png": "[encoded data removed]",
      "text/plain": [
       "<Figure size 432x288 with 1 Axes>"
      ]
     },
     "metadata": {
      "needs_background": "light"
     },
     "output_type": "display_data"
    }
   ],
   "source": [
    "# weight_multi can blow things up due to high variance \n",
    "plt.figure()\n",
    "n,b,_=plt.hist(X_train_ad_sim1[Y_train_ad_sim1==1],histtype=\"step\", color=\"black\", bins=30,label=\"Data (with anomaly)\")\n",
    "#n1,_,_=plt.hist(X_train_both[Y_train_both==0],color=\"orange\",alpha=0.5,bins=b,label=\"sim\")\n",
    "_,_,_=plt.hist(X_train_ad_sim1[Y_train_ad_sim1==0], weights=W_train_ad_sim1[(W_train_ad_sim1 != 1) & (W_train_ad_sim1 != 0)], color=\"tab:orange\", alpha=0.5,bins=b,label=\"Reweighted Sim 1 (SALAD)\")\n",
    "\n",
    "plt.ylim([0,max(n)*1.8])\n",
    "\n",
    "#plt.hist(np.concatenate([X_sim1_sr, X_sim2_sr]), weights=w, color=\"green\",alpha=0.5,bins=b,label=\"simulation\")\n",
    "#plt.hist(preds_anomalyboth,density=True,histtype=\"step\",color=\"black\",bins=b,label=\"Signal\")\n",
    "plt.legend()\n",
    "plt.xlabel(\"x (SR)\")\n",
    "plt.ylabel(\"counts\")\n",
    "# plt.savefig(\"./figs/salad_1_reweighting.pdf\")\n"
   ]
  },
  {
   "cell_type": "code",
   "execution_count": 482,
   "id": "3633e455",
   "metadata": {},
   "outputs": [
    {
     "data": {
      "text/plain": [
       "Text(0, 0.5, 'counts')"
      ]
     },
     "execution_count": 482,
     "metadata": {},
     "output_type": "execute_result"
    },
    {
     "data": {
      "image/png": "[encoded data removed]",
      "text/plain": [
       "<Figure size 432x288 with 1 Axes>"
      ]
     },
     "metadata": {
      "needs_background": "light"
     },
     "output_type": "display_data"
    }
   ],
   "source": [
    "# weight_multi can blow things up due to high variance \n",
    "plt.figure()\n",
    "n,b,_=plt.hist(X_train_ad_sim2[Y_train_ad_sim2==1],histtype=\"step\", color=\"black\", bins=30,label=\"Data (with anomaly)\")\n",
    "#n1,_,_=plt.hist(X_train_both[Y_train_both==0],color=\"orange\",alpha=0.5,bins=b,label=\"sim\")\n",
    "_,_,_=plt.hist(X_train_ad_sim2[Y_train_ad_sim2==0], weights=W_train_ad_sim2[(W_train_ad_sim2 != 1) & (W_train_ad_sim2 != 0)], color=\"tab:orange\", alpha=0.5,bins=b,label=\"Reweighted Sim 2 (SALAD)\")\n",
    "\n",
    "plt.ylim([0,max(n)*1.8])\n",
    "\n",
    "#plt.hist(np.concatenate([X_sim1_sr, X_sim2_sr]), weights=w, color=\"green\",alpha=0.5,bins=b,label=\"simulation\")\n",
    "#plt.hist(preds_anomalyboth,density=True,histtype=\"step\",color=\"black\",bins=b,label=\"Signal\")\n",
    "plt.legend()\n",
    "plt.xlabel(\"x (SR)\")\n",
    "plt.ylabel(\"counts\")\n",
    "# plt.savefig(\"./figs/salad_2_reweighting.pdf\")\n"
   ]
  },
  {
   "cell_type": "code",
   "execution_count": 483,
   "id": "fe3849e9",
   "metadata": {},
   "outputs": [
    {
     "name": "stdout",
     "output_type": "stream",
     "text": [
      "Done with 1\n",
      "Done with 1 rw\n",
      "Done with 2\n",
      "Done with 2 rw\n",
      "Done with 12\n",
      "Done with 12 rw\n",
      "Done with multi rw\n"
     ]
    }
   ],
   "source": [
    "myhistory_ad_sim1 = model_ad_sim1.fit(X_train_ad_sim1, Y_train_ad_sim1, epochs=50 ,batch_size=200,verbose=0)\n",
    "print(\"Done with 1\")\n",
    "myhistory_ad_sim1_rw = model_ad_sim1_rw.fit(X_train_ad_sim1, Y_train_ad_sim1, sample_weight = W_train_ad_sim1, epochs=50 ,batch_size=200,verbose=0)\n",
    "print(\"Done with 1 rw\")\n",
    "myhistory_ad_sim2 = model_ad_sim2.fit(X_train_ad_sim2, Y_train_ad_sim2, epochs=50 ,batch_size=200,verbose=0)\n",
    "print(\"Done with 2\")\n",
    "myhistory_ad_sim2_rw = model_ad_sim2_rw.fit(X_train_ad_sim2, Y_train_ad_sim2, sample_weight = W_train_ad_sim2, epochs=50 ,batch_size=200,verbose=0)\n",
    "print(\"Done with 2 rw\")\n",
    "myhistory_ad_sim12 = model_ad_sim12.fit(X_train_ad_sim12, Y_train_ad_sim12, epochs=50 ,batch_size=200,verbose=0)\n",
    "print(\"Done with 12\")\n",
    "myhistory_ad_sim12_rw = model_ad_sim12_rw.fit(X_train_ad_sim12, Y_train_ad_sim12, sample_weight = W_train_ad_sim12, epochs=50 ,batch_size=200,verbose=0)\n",
    "print(\"Done with 12 rw\")\n",
    "myhistory_ad_sim_multi_rw = model_ad_sim_multi_rw.fit(X_train_ad_sim12, Y_train_ad_sim12, sample_weight = W_train_ad_sim_multi, epochs=50 ,batch_size=200,verbose=0)\n",
    "print(\"Done with multi rw\")"
   ]
  },
  {
   "cell_type": "code",
   "execution_count": 484,
   "id": "e8b79e74",
   "metadata": {},
   "outputs": [],
   "source": [
    "#independent test set\n",
    "\n",
    "class0 = np.concatenate([np.random.normal(-1,0.2,100000),np.random.normal(1,0.2,100000)])\n",
    "class1 = np.concatenate([np.random.normal(-2,0.2,100000), np.random.normal(2,0.2,100000)])"
   ]
  },
  {
   "cell_type": "code",
   "execution_count": 485,
   "id": "fec6253e",
   "metadata": {},
   "outputs": [],
   "source": [
    "from sklearn import metrics"
   ]
  },
  {
   "cell_type": "code",
   "execution_count": 486,
   "id": "5216aa53",
   "metadata": {},
   "outputs": [
    {
     "name": "stdout",
     "output_type": "stream",
     "text": [
      "200/200 [==============================] - 1s 2ms/step\n",
      "200/200 [==============================] - 0s 2ms/step\n",
      "200/200 [==============================] - 0s 2ms/step\n",
      "200/200 [==============================] - 0s 2ms/step\n",
      "200/200 [==============================] - 1s 2ms/step\n",
      "200/200 [==============================] - 0s 2ms/step\n",
      "200/200 [==============================] - 1s 2ms/step\n",
      "200/200 [==============================] - 0s 2ms/step\n",
      "200/200 [==============================] - 0s 2ms/step\n",
      "200/200 [==============================] - 0s 2ms/step\n",
      "200/200 [==============================] - 1s 2ms/step\n",
      "200/200 [==============================] - 0s 2ms/step\n",
      "200/200 [==============================] - 1s 2ms/step\n",
      "200/200 [==============================] - 0s 2ms/step\n"
     ]
    }
   ],
   "source": [
    "scores0 = model_ad_sim1.predict(class0,batch_size=1000)\n",
    "scores1 = model_ad_sim1.predict(class1,batch_size=1000)\n",
    "fpr_1, tpr_1, thresholds_1 = metrics.roc_curve(np.concatenate([np.ones(len(scores1)),np.zeros(len(scores0))]), np.concatenate([scores1,scores0]))\n",
    "\n",
    "scores0_rw = model_ad_sim1_rw.predict(class0,batch_size=1000)\n",
    "scores1_rw = model_ad_sim1_rw.predict(class1,batch_size=1000)\n",
    "fpr_1_rw, tpr_1_rw, thresholds_1_rw = metrics.roc_curve(np.concatenate([np.ones(len(scores1)),np.zeros(len(scores0))]), np.concatenate([scores1_rw,scores0_rw]))\n",
    "\n",
    "scores0_2 = model_ad_sim2.predict(class0,batch_size=1000)\n",
    "scores1_2 = model_ad_sim2.predict(class1,batch_size=1000)\n",
    "fpr_2, tpr_2, thresholds_2 = metrics.roc_curve(np.concatenate([np.ones(len(scores1)),np.zeros(len(scores0))]), np.concatenate([scores1_2,scores0_2]))\n",
    "\n",
    "scores0_2_rw = model_ad_sim2_rw.predict(class0,batch_size=1000)\n",
    "scores1_2_rw = model_ad_sim2_rw.predict(class1,batch_size=1000)\n",
    "fpr_2_rw, tpr_2_rw, thresholds_2_rw = metrics.roc_curve(np.concatenate([np.ones(len(scores1)),np.zeros(len(scores0))]), np.concatenate([scores1_2_rw,scores0_2_rw]))\n",
    "\n",
    "scores0_12 = model_ad_sim12.predict(class0,batch_size=1000)\n",
    "scores1_12 = model_ad_sim12.predict(class1,batch_size=1000)\n",
    "fpr_12, tpr_12, thresholds_12 = metrics.roc_curve(np.concatenate([np.ones(len(scores1)),np.zeros(len(scores0))]), np.concatenate([scores1_12,scores0_12]))\n",
    "\n",
    "scores0_12_rw = model_ad_sim12_rw.predict(class0,batch_size=1000)\n",
    "scores1_12_rw = model_ad_sim12_rw.predict(class1,batch_size=1000)\n",
    "fpr_12_rw, tpr_12_rw, thresholds_12_rw = metrics.roc_curve(np.concatenate([np.ones(len(scores1)),np.zeros(len(scores0))]), np.concatenate([scores1_12_rw,scores0_12_rw]))\n",
    "\n",
    "scores0_multi_rw = model_ad_sim_multi_rw.predict(class0, batch_size=1000)\n",
    "scores1_multi_rw = model_ad_sim_multi_rw.predict(class1, batch_size=1000)\n",
    "fpr_multi_rw, tpr_multi_rw, thresholds_multi_rw = metrics.roc_curve(np.concatenate([np.ones(len(scores1)),np.zeros(len(scores0))]), np.concatenate([scores1_multi_rw,scores0_multi_rw]))"
   ]
  },
  {
   "cell_type": "code",
   "execution_count": 488,
   "id": "eea2df5d",
   "metadata": {},
   "outputs": [
    {
     "name": "stderr",
     "output_type": "stream",
     "text": [
      "/tmp/ipykernel_172907/1651428175.py:4: RuntimeWarning: divide by zero encountered in true_divide\n",
      "  plt.plot(tpr_1_rw,1./fpr_1_rw,ls=\"-\",color=\"tab:blue\", label=\"Sim 1 SALAD\")\n",
      "/tmp/ipykernel_172907/1651428175.py:7: RuntimeWarning: divide by zero encountered in true_divide\n",
      "  plt.plot(tpr_2_rw,1./fpr_2_rw,ls=\"-\",color=\"tab:pink\", label=\"Sim 2 SALAD\")\n",
      "/tmp/ipykernel_172907/1651428175.py:10: RuntimeWarning: divide by zero encountered in true_divide\n",
      "  plt.plot(tpr_multi_rw,1./fpr_multi_rw,ls=\"-\",color=\"tab:orange\", label=\"SALAD-Switch\", linewidth= 1.5)\n",
      "/tmp/ipykernel_172907/1651428175.py:11: RuntimeWarning: divide by zero encountered in true_divide\n",
      "  plt.plot(tpr_12_rw,1./fpr_12_rw,ls=\"-\",color=\"tab:green\", label=\"Multi-SALAD\")\n"
     ]
    },
    {
     "data": {
      "image/png": "[encoded data removed]",
      "text/plain": [
       "<Figure size 432x288 with 1 Axes>"
      ]
     },
     "metadata": {
      "needs_background": "light"
     },
     "output_type": "display_data"
    }
   ],
   "source": [
    "# plt.plot(tpr_12,1./fpr_12,color=\"tab:green\",label=\"unweighted\")\n",
    "\n",
    "# plt.plot(tpr_1,1./fpr_1, \"tab:blue\",label=\"Sim 1 SALAD\", linewidth= 1)\n",
    "plt.plot(tpr_1_rw,1./fpr_1_rw,ls=\"-\",color=\"tab:blue\", label=\"Sim 1 SALAD\")\n",
    "\n",
    "#plt.plot(tpr_2,1./fpr_2,color=\"tab:pink\",label=\"Sim 2 SALAD\")\n",
    "plt.plot(tpr_2_rw,1./fpr_2_rw,ls=\"-\",color=\"tab:pink\", label=\"Sim 2 SALAD\")\n",
    "\n",
    "\n",
    "plt.plot(tpr_multi_rw,1./fpr_multi_rw,ls=\"-\",color=\"tab:orange\", label=\"SALAD-Switch\", linewidth= 1.5)\n",
    "plt.plot(tpr_12_rw,1./fpr_12_rw,ls=\"-\",color=\"tab:green\", label=\"Multi-SALAD\")\n",
    "\n",
    "\n",
    "\n",
    "#plt.plot(tpr,1./tpr,color=\"gray\",ls=\":\")\n",
    "plt.yscale(\"log\")\n",
    "plt.xlabel(\"TPR (Signal Efficiency)\")\n",
    "plt.ylabel(\"1/FPR (Background Rejection)\")\n",
    "plt.legend()\n",
    "plt.savefig(\"./figs/run3.pdf\")\n"
   ]
  }
 ],
 "metadata": {
  "kernelspec": {
   "display_name": "Python 3 (ipykernel)",
   "language": "python",
   "name": "python3"
  },
  "language_info": {
   "codemirror_mode": {
    "name": "ipython",
    "version": 3
   },
   "file_extension": ".py",
   "mimetype": "text/x-python",
   "name": "python",
   "nbconvert_exporter": "python",
   "pygments_lexer": "ipython3",
   "version": "3.8.6"
  },
  "vscode": {
   "interpreter": {
    "hash": "3587fd87613d1d746f98751a99c937df37c2e6999a81ded2a217f0d955345cad"
   }
  }
 },
 "nbformat": 4,
 "nbformat_minor": 5
}
